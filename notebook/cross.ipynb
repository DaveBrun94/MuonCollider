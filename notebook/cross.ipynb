{
 "cells": [
  {
   "cell_type": "markdown",
   "metadata": {},
   "source": [
    "## Kinematics of asymmetric electron-positron annilihation\n",
    "\n",
    "The cross section of electron-positron annihilation to muon\\anti-muon:\n",
    "\n",
    "\n",
    "$\\sigma(e^+e^- \\to \\mu^+\\mu^-) = \\frac{4\\pi\\alpha^2}{3s}$\n",
    "\n",
    "where s is the mandalstam variable:\n",
    "\n",
    "$s = (p_{e^+}^\\mu + p_{e^-}^{\\mu})^2$\n",
    "\n",
    "For general four momenta of both initial state with E >> m_e:\n",
    "\n",
    "$p_{e^+}^\\mu = \\begin{pmatrix}|\\vec{p}_+|\\\\ \\vec{p}_+\\end{pmatrix}, \\quad p_{e^-}^\\mu = \\begin{pmatrix}|\\vec{p}_-|\\\\ \\vec{p}_-\\end{pmatrix}$\n",
    "\n",
    "With this $s$ can be expressed as (again with E >> m_e):\n",
    "\n",
    "$s = 2|\\vec{p}_+||\\vec{p}_-|(1-cos(\\theta))$\n",
    "\n",
    "where $\\theta$ is the angle between the input particles. The cross section is the is then:\n",
    "\n",
    "$\\sigma(e^+e^- \\to \\mu^+\\mu^-) = \\frac{4\\pi\\alpha^2}{6|\\vec{p}_+||\\vec{p}_-|(1-cos(\\theta))}$"
   ]
  },
  {
   "cell_type": "code",
   "execution_count": 22,
   "metadata": {},
   "outputs": [],
   "source": [
    "from scipy.constants import pi, fine_structure as alpha\n",
    "from numpy import cos, linspace\n",
    "\n",
    "def sigma(pMinus, pPlus, theta):\n",
    "    return (4*pi*alpha**2)/(6*pMinus*pPlus*(1-cos(theta)))"
   ]
  },
  {
   "cell_type": "code",
   "execution_count": 24,
   "metadata": {},
   "outputs": [
    {
     "name": "stdout",
     "output_type": "stream",
     "text": [
      "0.01 0.001858838423855512\n",
      "0.35795473928775484 1.4663038910799333e-06\n",
      "0.7059094785755097 3.8891066867188924e-07\n",
      "1.0538642178632645 1.8375638959584737e-07\n",
      "1.4018189571510193 1.1173152585986652e-07\n",
      "1.7497736964387742 7.889584275059787e-08\n",
      "2.0977284357265287 6.184186447151279e-08\n",
      "2.445683175014284 5.258425648529295e-08\n",
      "2.7936379143020384 4.79060280545041e-08\n",
      "3.141592653589793 4.647057333968709e-08\n"
     ]
    }
   ],
   "source": [
    "for i in linspace(0.01, pi, 10):\n",
    "    print(i, sigma(40, 30, i))"
   ]
  },
  {
   "cell_type": "code",
   "execution_count": null,
   "metadata": {},
   "outputs": [],
   "source": []
  }
 ],
 "metadata": {
  "kernelspec": {
   "display_name": "Python 3",
   "language": "python",
   "name": "python3"
  },
  "language_info": {
   "codemirror_mode": {
    "name": "ipython",
    "version": 3
   },
   "file_extension": ".py",
   "mimetype": "text/x-python",
   "name": "python",
   "nbconvert_exporter": "python",
   "pygments_lexer": "ipython3",
   "version": "3.6.8"
  }
 },
 "nbformat": 4,
 "nbformat_minor": 2
}
