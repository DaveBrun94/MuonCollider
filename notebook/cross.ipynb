{
 "cells": [
  {
   "cell_type": "markdown",
   "metadata": {},
   "source": [
    "## Kinematics of asymmetric electron-positron annilihation\n",
    "\n",
    "The cross section of electron-positron annihilation to muon\\anti-muon:\n",
    "\n",
    "\n",
    "$\\sigma(e^+e^- \\to \\mu^+\\mu^-) = \\frac{4\\pi\\alpha^2}{3s}$\n",
    "\n",
    "where s is the mandelstam variable:\n",
    "\n",
    "$s = (p_{e^+}^\\mu + p_{e^-}^{\\mu})^2 = (p_{e^+}^\\mu)^2 + (p_{e^-}^\\mu)^2 + 2p_{e^-}^\\mu p_{e^+, \\mu} = 2m_e^2 + 2p_{e^-}^\\mu p_{e^+, \\mu}$\n",
    "\n",
    "For general four momenta of both initial state with $E >> m_e \\Rightarrow E = |\\vec{p}|$:\n",
    "\n",
    "$p_{e^+}^\\mu = \\begin{pmatrix}|\\vec{p}_+|\\\\ \\vec{p}_+\\end{pmatrix}, \\quad p_{e^-}^\\mu = \\begin{pmatrix}|\\vec{p}_-|\\\\ \\vec{p}_-\\end{pmatrix}$\n",
    "\n",
    "With this $s$ can be expressed as (again with $E >> m_e$):\n",
    "\n",
    "$s = 2(|\\vec{p}_+||\\vec{p}_-| - \\vec{p}_-\\vec{p}_+) = 2|\\vec{p}_+||\\vec{p}_-|(1-cos(\\theta))$\n",
    "\n",
    "where $\\theta$ is the angle between the input particles. The cross section is the is then:\n",
    "\n",
    "$\\sigma(e^+e^- \\to \\mu^+\\mu^-) = \\frac{4\\pi\\alpha^2}{6|\\vec{p}_+||\\vec{p}_-|(1-cos(\\theta))}$"
   ]
  },
  {
   "cell_type": "code",
   "execution_count": 9,
   "metadata": {},
   "outputs": [],
   "source": [
    "from scipy.constants import pi, fine_structure as alpha\n",
    "from numpy import cos, linspace\n",
    "\n",
    "def sigma(pMinus, pPlus, theta):\n",
    "    return (4*pi*alpha**2)/(6*pMinus*pPlus*(1-cos(theta)))"
   ]
  },
  {
   "cell_type": "code",
   "execution_count": 16,
   "metadata": {},
   "outputs": [
    {
     "name": "stderr",
     "output_type": "stream",
     "text": [
      "/home/dbrunner/MuonCollider/pythonDF/lib/python3.6/site-packages/ipykernel_launcher.py:5: RuntimeWarning: divide by zero encountered in double_scalars\n",
      "  \"\"\"\n"
     ]
    },
    {
     "data": {
      "image/png": "[encoded data removed]",
      "text/plain": [
       "<Figure size 432x288 with 1 Axes>"
      ]
     },
     "metadata": {
      "needs_background": "light"
     },
     "output_type": "display_data"
    }
   ],
   "source": [
    "import matplotlib.pyplot as plt\n",
    "\n",
    "theta = linspace(0, pi, 40)\n",
    "\n",
    "plt.figure()\n",
    "plt.plot(theta, [sigma(40, 40, t) for t in theta])\n",
    "plt.yscale('log')\n",
    "plt.show()"
   ]
  },
  {
   "cell_type": "code",
   "execution_count": null,
   "metadata": {},
   "outputs": [],
   "source": []
  }
 ],
 "metadata": {
  "kernelspec": {
   "display_name": "Python 3",
   "language": "python",
   "name": "python3"
  },
  "language_info": {
   "codemirror_mode": {
    "name": "ipython",
    "version": 3
   },
   "file_extension": ".py",
   "mimetype": "text/x-python",
   "name": "python",
   "nbconvert_exporter": "python",
   "pygments_lexer": "ipython3",
   "version": "3.6.8"
  }
 },
 "nbformat": 4,
 "nbformat_minor": 2
}
