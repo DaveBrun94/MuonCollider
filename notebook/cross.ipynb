{
 "cells": [
  {
   "cell_type": "markdown",
   "metadata": {},
   "source": [
    "## Kinematics of asymmetric electron-positron annilihation\n",
    "\n",
    "The lorentz-invariant differential cross section of electron-positron annihilation to muon\\anti-muon:\n",
    "\n",
    "\n",
    "$\\frac{d\\sigma}{dt}(e^+e^- \\to \\mu^+\\mu^-) = \\frac{2\\pi\\alpha^2}{s(s-4m_e^2)}(2t^2 + 2st + s^2 - 4(m_e^2+m_\\mu^2)t + 2(m_e^2 + m_\\mu^2)^2)$\n",
    "\n",
    "where s and t are the mandelstam variable:\n",
    "\n",
    "$s = (p_{e^+} + p_{e^-})^2 = (p_{e^+})^2 + (p_{e^-})^2 + 2p_{e^-}p_{e^+} = 2m_e^2 + 2p_{e^-}p_{e^+}$\n",
    "\n",
    "$t = (p_{e^+} - p_{\\mu^+})^2 = (p_{e^+})^2 + (p_{\\mu^-})^2 - 2p_{e^+}p_{\\mu^-} = m_e^2 + m_\\mu^2 + 2p_{e^+}p_{\\mu^+}$\n",
    "\n",
    "For general four momenta of both initial state with $E_e >> m_e \\Rightarrow E = |\\vec{p}|$:\n",
    "\n",
    "$p_{e^+}^\\mu = \\begin{pmatrix}|\\vec{p}_+|\\\\ \\vec{p}_+\\end{pmatrix}, \\quad p_{e^-}^\\mu = \\begin{pmatrix}|\\vec{p}_-|\\\\ \\vec{p}_-\\end{pmatrix}$\n",
    "\n",
    "With this $s$ can be expressed as:\n",
    "\n",
    "$s = 2m_e^2 + 2(|\\vec{p}_+||\\vec{p}_-| - \\vec{p}_-\\vec{p}_+) = 2(|\\vec{p}_+||\\vec{p}_-| - |\\vec{p}_-||\\vec{p}_+|\\cos(\\beta)) = 2m_e^2  + 2|\\vec{p}_+||\\vec{p}_-|(1-\\cos(\\beta))$"
   ]
  },
  {
   "cell_type": "code",
   "execution_count": 1,
   "metadata": {},
   "outputs": [],
   "source": [
    "from scipy.constants import pi, m_e, c, hbar, fine_structure as alpha\n",
    "from numpy import cos, sqrt, linspace, meshgrid, array\n",
    "\n",
    "##Function for calculating s\n",
    "def s(pMinus, pPlus, beta):\n",
    "    return 2*(m_e*10**-9/c**2)**2 + 2*pPlus*pMinus*(1-cos(beta)) ##[GeV^2]"
   ]
  },
  {
   "cell_type": "code",
   "execution_count": 2,
   "metadata": {},
   "outputs": [],
   "source": [
    "from scipy.optimize import newton\n",
    "\n",
    "mRes = 3 ##Y/psi resonance [GeV]\n",
    "\n",
    "EMinus = range(10, 35, 5) ##[GeV]\n",
    "EPlus = linspace(5, 60, 50) ##[GeV]\n",
    "beta = linspace(0.01, 0.15, 50) ##[rad]\n",
    "\n",
    "##Array w\n",
    "resLine = [newton(lambda b, Ep: s(E_, Ep, b) - mRes**2, beta, args=(EPlus,)) for E_ in EMinus]"
   ]
  },
  {
   "cell_type": "code",
   "execution_count": null,
   "metadata": {},
   "outputs": [
    {
     "data": {
      "image/png": "[encoded data removed]",
      "text/plain": [
       "<Figure size 432x288 with 2 Axes>"
      ]
     },
     "metadata": {
      "needs_background": "light"
     },
     "output_type": "display_data"
    }
   ],
   "source": [
    "%matplotlib inline\n",
    "import matplotlib.pyplot as plt\n",
    "\n",
    "EPlusG, betaG = meshgrid(EPlus, beta)\n",
    "\n",
    "for i, E_ in enumerate(EMinus):\n",
    "\n",
    "    sqrtS = array([sqrt(s(E, E_, t)) for (E, t) in zip(EPlusG, betaG)]) ##[GeV]\n",
    "\n",
    "    fig, ax = plt.subplots()\n",
    "    ax.set_title(r\"E(e$^{Q}$) = {E} GeV\".format(Q=\"-\", E=E_))\n",
    "    ax.set_xlabel(r\"E(e$^{+}$) [GeV]\")\n",
    "    ax.set_ylabel(r\"$\\beta$ [rad]\")\n",
    "    ax.set_ylim(beta[0], beta[-1])\n",
    "\n",
    "    ax.plot(EPlus, resLine[i], color=\"black\")\n",
    "    ax.text(EPlus[40], resLine[i][40], r\"m(J/$\\psi)$\")\n",
    "    cs = ax.contourf(EPlusG, betaG, sqrtS)\n",
    "    cb =fig.colorbar(cs, ax=ax)\n",
    "    cb.set_label(r\"$\\sqrt{s}$ [GeV]\")"
   ]
  },
  {
   "cell_type": "code",
   "execution_count": null,
   "metadata": {},
   "outputs": [],
   "source": []
  }
 ],
 "metadata": {
  "kernelspec": {
   "display_name": "Python 3",
   "language": "python",
   "name": "python3"
  },
  "language_info": {
   "codemirror_mode": {
    "name": "ipython",
    "version": 3
   },
   "file_extension": ".py",
   "mimetype": "text/x-python",
   "name": "python",
   "nbconvert_exporter": "python",
   "pygments_lexer": "ipython3",
   "version": "3.6.8"
  }
 },
 "nbformat": 4,
 "nbformat_minor": 2
}
